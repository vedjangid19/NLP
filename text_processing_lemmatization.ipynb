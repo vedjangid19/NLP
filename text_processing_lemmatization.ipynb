{
 "cells": [
  {
   "cell_type": "markdown",
   "metadata": {},
   "source": [
    "WordNetLemmatizater"
   ]
  },
  {
   "cell_type": "code",
   "execution_count": 1,
   "metadata": {},
   "outputs": [],
   "source": [
    "from nltk.stem import WordNetLemmatizer"
   ]
  },
  {
   "cell_type": "code",
   "execution_count": 2,
   "metadata": {},
   "outputs": [],
   "source": [
    "words = ['eating', 'eats', 'eaten', 'going', 'go', 'gone', 'goes', 'writing', 'write', 'written', 'programming', 'programs', 'history',\n",
    "         'finally', 'finalized', 'congratulations', 'congrat']"
   ]
  },
  {
   "cell_type": "code",
   "execution_count": 4,
   "metadata": {},
   "outputs": [
    {
     "name": "stderr",
     "output_type": "stream",
     "text": [
      "[nltk_data] Downloading package wordnet to\n",
      "[nltk_data]     C:\\Users\\Acer\\AppData\\Roaming\\nltk_data...\n"
     ]
    },
    {
     "data": {
      "text/plain": [
       "True"
      ]
     },
     "execution_count": 4,
     "metadata": {},
     "output_type": "execute_result"
    }
   ],
   "source": [
    "import nltk\n",
    "nltk.download('wordnet')"
   ]
  },
  {
   "cell_type": "code",
   "execution_count": 5,
   "metadata": {},
   "outputs": [
    {
     "name": "stdout",
     "output_type": "stream",
     "text": [
      "eating  ------>  eat\n",
      "eats  ------>  eat\n",
      "eaten  ------>  eat\n",
      "going  ------>  go\n",
      "go  ------>  go\n",
      "gone  ------>  go\n",
      "goes  ------>  go\n",
      "writing  ------>  write\n",
      "write  ------>  write\n",
      "written  ------>  write\n",
      "programming  ------>  program\n",
      "programs  ------>  program\n",
      "history  ------>  history\n",
      "finally  ------>  finally\n",
      "finalized  ------>  finalize\n",
      "congratulations  ------>  congratulations\n",
      "congrat  ------>  congrat\n"
     ]
    }
   ],
   "source": [
    "wordnet_lemmatizer = WordNetLemmatizer()\n",
    "\n",
    "for word in words:\n",
    "    print(word, \" ------> \", wordnet_lemmatizer.lemmatize(word, 'v'))"
   ]
  },
  {
   "cell_type": "code",
   "execution_count": 6,
   "metadata": {},
   "outputs": [
    {
     "name": "stdout",
     "output_type": "stream",
     "text": [
      "eating  ------>  eating\n",
      "eats  ------>  eats\n",
      "eaten  ------>  eaten\n",
      "going  ------>  going\n",
      "go  ------>  go\n",
      "gone  ------>  gone\n",
      "goes  ------>  go\n",
      "writing  ------>  writing\n",
      "write  ------>  write\n",
      "written  ------>  written\n",
      "programming  ------>  programming\n",
      "programs  ------>  program\n",
      "history  ------>  history\n",
      "finally  ------>  finally\n",
      "finalized  ------>  finalized\n",
      "congratulations  ------>  congratulation\n",
      "congrat  ------>  congrat\n"
     ]
    }
   ],
   "source": [
    "for word in words:\n",
    "    print(word, \" ------> \", wordnet_lemmatizer.lemmatize(word, 'n'))"
   ]
  },
  {
   "cell_type": "code",
   "execution_count": null,
   "metadata": {},
   "outputs": [],
   "source": []
  }
 ],
 "metadata": {
  "kernelspec": {
   "display_name": "Python 3",
   "language": "python",
   "name": "python3"
  },
  "language_info": {
   "codemirror_mode": {
    "name": "ipython",
    "version": 3
   },
   "file_extension": ".py",
   "mimetype": "text/x-python",
   "name": "python",
   "nbconvert_exporter": "python",
   "pygments_lexer": "ipython3",
   "version": "3.11.0"
  }
 },
 "nbformat": 4,
 "nbformat_minor": 2
}
