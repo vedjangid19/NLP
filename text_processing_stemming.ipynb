{
 "cells": [
  {
   "cell_type": "markdown",
   "metadata": {},
   "source": [
    "PorterStemmer"
   ]
  },
  {
   "cell_type": "code",
   "execution_count": 1,
   "metadata": {},
   "outputs": [],
   "source": [
    "words = ['eating', 'eats', 'eaten', 'going', 'go', 'gone', 'goes', 'writing', 'write', 'written', 'programming', 'programs', 'history',\n",
    "         'finally', 'finalized', 'congratulations', 'congrat']"
   ]
  },
  {
   "cell_type": "code",
   "execution_count": 3,
   "metadata": {},
   "outputs": [],
   "source": [
    "from nltk.stem import PorterStemmer"
   ]
  },
  {
   "cell_type": "code",
   "execution_count": 4,
   "metadata": {},
   "outputs": [
    {
     "name": "stdout",
     "output_type": "stream",
     "text": [
      "eating  ----->  eat\n",
      "eats  ----->  eat\n",
      "eaten  ----->  eaten\n",
      "going  ----->  go\n",
      "go  ----->  go\n",
      "gone  ----->  gone\n",
      "goes  ----->  goe\n",
      "writing  ----->  write\n",
      "write  ----->  write\n",
      "written  ----->  written\n",
      "programming  ----->  program\n",
      "programs  ----->  program\n",
      "history  ----->  histori\n",
      "finally  ----->  final\n",
      "finalized  ----->  final\n",
      "congratulations  ----->  congratul\n",
      "congrat  ----->  congrat\n"
     ]
    }
   ],
   "source": [
    "porter_stemmer = PorterStemmer()\n",
    "for word in words:\n",
    "    print(word, \" -----> \",porter_stemmer.stem(word))"
   ]
  },
  {
   "cell_type": "markdown",
   "metadata": {},
   "source": [
    "RegexpStemmer"
   ]
  },
  {
   "cell_type": "code",
   "execution_count": 5,
   "metadata": {},
   "outputs": [
    {
     "name": "stdout",
     "output_type": "stream",
     "text": [
      "eating  ----->  eat\n",
      "eats  ----->  eat\n",
      "eaten  ----->  eat\n",
      "going  ----->  go\n",
      "go  ----->  go\n",
      "gone  ----->  gone\n",
      "goes  ----->  go\n",
      "writing  ----->  writ\n",
      "write  ----->  write\n",
      "written  ----->  writt\n",
      "programming  ----->  programm\n",
      "programs  ----->  program\n",
      "history  ----->  history\n",
      "finally  ----->  finally\n",
      "finalized  ----->  finalized\n",
      "congratulations  ----->  congratulation\n",
      "congrat  ----->  congrat\n"
     ]
    }
   ],
   "source": [
    "from nltk.stem import RegexpStemmer\n",
    "\n",
    "regexp_stemmer = RegexpStemmer('ing$|s$|es$|en$|able$', min=4)\n",
    "\n",
    "for word in words:\n",
    "    print(word, \" -----> \",regexp_stemmer.stem(word))"
   ]
  },
  {
   "cell_type": "markdown",
   "metadata": {},
   "source": [
    "SnowballStemmer"
   ]
  },
  {
   "cell_type": "code",
   "execution_count": 6,
   "metadata": {},
   "outputs": [
    {
     "name": "stdout",
     "output_type": "stream",
     "text": [
      "eating  ----->  eat\n",
      "eats  ----->  eat\n",
      "eaten  ----->  eaten\n",
      "going  ----->  go\n",
      "go  ----->  go\n",
      "gone  ----->  gone\n",
      "goes  ----->  goe\n",
      "writing  ----->  write\n",
      "write  ----->  write\n",
      "written  ----->  written\n",
      "programming  ----->  program\n",
      "programs  ----->  program\n",
      "history  ----->  histori\n",
      "finally  ----->  final\n",
      "finalized  ----->  final\n",
      "congratulations  ----->  congratul\n",
      "congrat  ----->  congrat\n"
     ]
    }
   ],
   "source": [
    "from nltk.stem import SnowballStemmer\n",
    "\n",
    "snowball_stemmer = SnowballStemmer('english')\n",
    "\n",
    "for word in words:\n",
    "    print(word, \" -----> \",snowball_stemmer.stem(word))"
   ]
  },
  {
   "cell_type": "code",
   "execution_count": 7,
   "metadata": {},
   "outputs": [
    {
     "data": {
      "text/plain": [
       "('fair', 'sport')"
      ]
     },
     "execution_count": 7,
     "metadata": {},
     "output_type": "execute_result"
    }
   ],
   "source": [
    "snowball_stemmer.stem('fairly'), snowball_stemmer.stem('sportingly'), "
   ]
  },
  {
   "cell_type": "code",
   "execution_count": null,
   "metadata": {},
   "outputs": [],
   "source": []
  }
 ],
 "metadata": {
  "kernelspec": {
   "display_name": "Python 3",
   "language": "python",
   "name": "python3"
  },
  "language_info": {
   "codemirror_mode": {
    "name": "ipython",
    "version": 3
   },
   "file_extension": ".py",
   "mimetype": "text/x-python",
   "name": "python",
   "nbconvert_exporter": "python",
   "pygments_lexer": "ipython3",
   "version": "3.11.0"
  }
 },
 "nbformat": 4,
 "nbformat_minor": 2
}
